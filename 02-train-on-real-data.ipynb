{
 "cells": [
  {
   "cell_type": "code",
   "execution_count": null,
   "metadata": {},
   "outputs": [],
   "source": [
    "from dotenv import load_dotenv, find_dotenv\n",
    "assert load_dotenv(find_dotenv(usecwd=False)), \"No .env file found, please create one\"\n",
    "\n",
    "from pathlib import Path\n",
    "\n",
    "import numpy as np\n",
    "import pandas as pd\n",
    "import torch\n",
    "from skopt.space import Categorical, Integer, Real\n",
    "import drn\n",
    "\n",
    "from hyperparameter_tune import hyperparameter_tune\n",
    "from hyperparameter_tuning_objectives import (\n",
    "    objective_cann,\n",
    "    objective_ddr,\n",
    "    objective_drn,\n",
    "    objective_mdn,\n",
    ")\n",
    "\n",
    "torch.set_num_threads(1)"
   ]
  },
  {
   "cell_type": "code",
   "execution_count": null,
   "metadata": {},
   "outputs": [],
   "source": [
    "accelerator = \"gpu\" if torch.cuda.is_available() else \"cpu\"\n",
    "print(f\"Using {accelerator} for training.\")"
   ]
  },
  {
   "cell_type": "code",
   "execution_count": null,
   "metadata": {},
   "outputs": [],
   "source": [
    "MODEL_DIR = Path(\"models/real\")\n",
    "MODEL_DIR.mkdir(parents=True, exist_ok=True)"
   ]
  },
  {
   "cell_type": "code",
   "execution_count": null,
   "metadata": {},
   "outputs": [],
   "source": [
    "hp_opts = {\n",
    "    \"n_calls\": 200,\n",
    "    \"n_random_starts\": 25,\n",
    "    \"verbose\": False,\n",
    "}"
   ]
  },
  {
   "cell_type": "code",
   "execution_count": null,
   "metadata": {},
   "outputs": [],
   "source": [
    "csv_file_path = \"data/freMPL1.csv\"\n",
    "df = pd.read_csv(csv_file_path)\n",
    "claims = df.loc[df[\"ClaimAmount\"] > 0, :]"
   ]
  },
  {
   "cell_type": "code",
   "execution_count": null,
   "metadata": {},
   "outputs": [],
   "source": [
    "# Scaling\n",
    "target = claims[\"ClaimAmount\"] / 1000\n",
    "features = claims.drop(\"ClaimAmount\", axis=1)\n",
    "features = features.drop(\n",
    "    [\"RecordBeg\", \"RecordEnd\", \"ClaimInd\", \"Garage\"], axis=1\n",
    ")  # Drop garage due to missing values\n",
    "\n",
    "# Convert \"VehAge\" categories to numeric\n",
    "features[\"VehAge\"] = features[\"VehAge\"].map(\n",
    "    {\n",
    "        \"0\": 0,\n",
    "        \"1\": 1,\n",
    "        \"2\": 2,\n",
    "        \"3\": 3,\n",
    "        \"4\": 4,\n",
    "        \"5\": 5,\n",
    "        \"6-7\": 6,\n",
    "        \"8-9\": 8,\n",
    "        \"10+\": 11,\n",
    "    }\n",
    ")\n",
    "feature_names = features.columns\n",
    "\n",
    "speed_ranges = [speed for speed in np.unique(features[\"VehMaxSpeed\"])]\n",
    "speed_series = pd.Series(speed_ranges)\n",
    "mapping = {speed_range: i + 1 for i, speed_range in enumerate(speed_ranges)}\n",
    "features[\"VehMaxSpeed\"] = features[\"VehMaxSpeed\"].map(mapping)\n",
    "features[\"SocioCateg\"] = features[\"SocioCateg\"].str.extract(\"(\\d+)\").astype(int)\n",
    "\n",
    "cat_features = [\n",
    "    \"HasKmLimit\",\n",
    "    \"Gender\",\n",
    "    \"MariStat\",\n",
    "    \"VehUsage\",\n",
    "    \"VehBody\",\n",
    "    \"VehPrice\",\n",
    "    \"VehEngine\",\n",
    "    \"VehEnergy\",\n",
    "    \"VehClass\",\n",
    "    \"SocioCateg\",\n",
    "]\n",
    "\n",
    "num_features = [feature for feature in features.columns if feature not in cat_features]"
   ]
  },
  {
   "cell_type": "code",
   "execution_count": null,
   "metadata": {},
   "outputs": [],
   "source": [
    "# Split and preprocess the data\n",
    "(\n",
    "    x_train,\n",
    "    x_val,\n",
    "    x_test,\n",
    "    y_train,\n",
    "    y_val,\n",
    "    y_test,\n",
    "    x_train_raw,\n",
    "    x_val_raw,\n",
    "    x_test_raw,\n",
    "    num_features,\n",
    "    cat_features,\n",
    "    all_categories,\n",
    "    ct,\n",
    ") = drn.split_and_preprocess(features, target, num_features, cat_features, seed=0)\n",
    "\n",
    "# Calculate and print statistics for y_train, y_val, y_test\n",
    "np.max(y_train), np.median(y_train), np.max(y_val), np.median(y_val), np.max(\n",
    "    y_test\n",
    "), np.median(y_test)"
   ]
  },
  {
   "cell_type": "code",
   "execution_count": null,
   "metadata": {},
   "outputs": [],
   "source": [
    "X_train = torch.Tensor(x_train.values)\n",
    "Y_train = torch.Tensor(y_train.values)\n",
    "X_val = torch.Tensor(x_val.values)\n",
    "Y_val = torch.Tensor(y_val.values)"
   ]
  },
  {
   "cell_type": "code",
   "execution_count": null,
   "metadata": {},
   "outputs": [],
   "source": [
    "distribution = \"gamma\""
   ]
  },
  {
   "cell_type": "code",
   "execution_count": null,
   "metadata": {},
   "outputs": [],
   "source": [
    "# Generate random seeds for the various training runs\n",
    "np.random.seed(2026)\n",
    "seeds = [int(s) for s in np.random.randint(0, 2**32 - 1, size=4)]\n",
    "seeds"
   ]
  },
  {
   "cell_type": "markdown",
   "metadata": {},
   "source": [
    "### GLM"
   ]
  },
  {
   "cell_type": "code",
   "execution_count": null,
   "metadata": {},
   "outputs": [],
   "source": [
    "glm = drn.GLM.from_statsmodels(X_train, Y_train, distribution=distribution)\n",
    "torch.save(glm, MODEL_DIR / \"glm.pkl\")"
   ]
  },
  {
   "cell_type": "markdown",
   "metadata": {},
   "source": [
    "### CANN"
   ]
  },
  {
   "cell_type": "code",
   "execution_count": null,
   "metadata": {},
   "outputs": [],
   "source": [
    "name = \"cann\"\n",
    "path = MODEL_DIR / f\"{name}_hp.pkl\"\n",
    "\n",
    "space_cann_real = [\n",
    "    Integer(1, 6, name=\"num_hidden_layers\"),\n",
    "    Categorical([32, 64, 128, 256, 512], name=\"hidden_size\"),\n",
    "    Real(0.0, 0.5, name=\"dropout_rate\"),\n",
    "    Real(0.0001, 0.01, name=\"lr\"),\n",
    "    Categorical([64, 128, 256, 512], name=\"batch_size\"),\n",
    "]\n",
    "best_models = hyperparameter_tune(\n",
    "    objective_cann,\n",
    "    space_cann_real,\n",
    "    path,\n",
    "    seed=seeds[0],\n",
    "    top_n=1,\n",
    "    gp_minimize_opts=hp_opts,\n",
    "    X_train=X_train,\n",
    "    Y_train=Y_train,\n",
    "    X_val=X_val,\n",
    "    Y_val=Y_val,\n",
    "    accelerator=accelerator,\n",
    "    glm=glm,\n",
    "    patience=50,\n",
    ")\n",
    "\n",
    "best_model = best_models[0]\n",
    "torch.save(best_model, MODEL_DIR / f\"{name}.pkl\")"
   ]
  },
  {
   "cell_type": "markdown",
   "metadata": {},
   "source": [
    "### MDN"
   ]
  },
  {
   "cell_type": "code",
   "execution_count": null,
   "metadata": {},
   "outputs": [],
   "source": [
    "name = \"mdn\"\n",
    "path = MODEL_DIR / f\"{name}_hp.pkl\"\n",
    "\n",
    "space_mdn_real = [\n",
    "    Integer(1, 6, name=\"num_hidden_layers\"),\n",
    "    Categorical([32, 64, 128, 256, 512], name=\"hidden_size\"),\n",
    "    Real(0.0, 0.5, name=\"dropout_rate\"),\n",
    "    Real(0.0001, 0.01, name=\"lr\"),\n",
    "    Integer(2, 10, name=\"num_components\"),\n",
    "    Categorical([64, 128, 256, 512], name=\"batch_size\"),\n",
    "]\n",
    "\n",
    "best_models = hyperparameter_tune(\n",
    "    objective_mdn,\n",
    "    space_mdn_real,\n",
    "    path,\n",
    "    seed=seeds[1],\n",
    "    top_n=1,\n",
    "    gp_minimize_opts=hp_opts,\n",
    "    X_train=X_train,\n",
    "    Y_train=Y_train,\n",
    "    X_val=X_val,\n",
    "    Y_val=Y_val,\n",
    "    accelerator=accelerator,\n",
    "    distribution=\"gamma\",\n",
    "    patience=50,\n",
    ")\n",
    "\n",
    "best_model = best_models[0]\n",
    "torch.save(best_model, MODEL_DIR / f\"{name}.pkl\")"
   ]
  },
  {
   "cell_type": "markdown",
   "metadata": {},
   "source": [
    "### DDR"
   ]
  },
  {
   "cell_type": "code",
   "execution_count": null,
   "metadata": {},
   "outputs": [],
   "source": [
    "name = \"ddr\"\n",
    "path = MODEL_DIR / f\"{name}_hp.pkl\"\n",
    "\n",
    "space_ddr_real = [\n",
    "    Integer(1, 6, name=\"num_hidden_layers\"),\n",
    "    Categorical([32, 64, 128, 256, 512], name=\"hidden_size\"),\n",
    "    Real(0.0, 0.5, name=\"dropout_rate\"),\n",
    "    Real(0.0002, 0.01, name=\"lr\"),\n",
    "    Categorical([0.05, 0.075, 0.1, 0.125, 0.15], name=\"proportion\"),\n",
    "    Categorical([64, 128, 256, 512], name=\"batch_size\"),\n",
    "]\n",
    "\n",
    "best_models = hyperparameter_tune(\n",
    "    objective_ddr,\n",
    "    space_ddr_real,\n",
    "    path,\n",
    "    seed=seeds[2],\n",
    "    top_n=1,\n",
    "    gp_minimize_opts=hp_opts,\n",
    "    X_train=X_train,\n",
    "    Y_train=Y_train,\n",
    "    X_val=X_val,\n",
    "    Y_val=Y_val,\n",
    "    accelerator=accelerator,\n",
    "    patience=50,\n",
    ")\n",
    "\n",
    "best_model = best_models[0]\n",
    "torch.save(best_model, MODEL_DIR / f\"{name}.pkl\")"
   ]
  },
  {
   "cell_type": "markdown",
   "metadata": {},
   "source": [
    "### DRN"
   ]
  },
  {
   "cell_type": "code",
   "execution_count": null,
   "metadata": {},
   "outputs": [],
   "source": [
    "name = \"drn\"\n",
    "path = MODEL_DIR / f\"{name}_hp.pkl\"\n",
    "\n",
    "space_drn_real = [\n",
    "    Integer(1, 6, name=\"num_hidden_layers\"),\n",
    "    Categorical([32, 64, 128, 256, 512], name=\"hidden_size\"),\n",
    "    Real(0.0, 0.5, name=\"dropout_rate\"),\n",
    "    Real(0.0002, 0.01, name=\"lr\", prior=\"log-uniform\"),\n",
    "    Real(1e-6, 1e-1, name=\"kl_alpha\", prior=\"log-uniform\"),\n",
    "    Categorical([0, 1e-6, 1e-5, 1e-4, 1e-3, 1e-2, 1e-1], name=\"mean_alpha\"),\n",
    "    Categorical([0, 1e-6, 1e-5, 1e-4, 1e-3, 1e-2, 1e-1], name=\"dv_alpha\"),\n",
    "    Categorical([64, 128, 256, 512], name=\"batch_size\"),\n",
    "    Categorical([0.1, 0.125, 0.15], name=\"proportion\"),\n",
    "    Categorical([1, 3, 5], name=\"min_obs\"),\n",
    "]\n",
    "\n",
    "best_models = hyperparameter_tune(\n",
    "    objective_drn,\n",
    "    space_drn_real,\n",
    "    path,\n",
    "    seed=seeds[3],\n",
    "    top_n=1,\n",
    "    gp_minimize_opts=hp_opts,\n",
    "    X_train=X_train,\n",
    "    Y_train=Y_train,\n",
    "    X_val=X_val,\n",
    "    Y_val=Y_val,\n",
    "    accelerator=accelerator,\n",
    "    glm=glm,\n",
    "    criteria=\"CRPS\",\n",
    "    kl_direction=\"forwards\",\n",
    "    patience=50,\n",
    ")\n",
    "\n",
    "best_model = best_models[0]\n",
    "torch.save(best_model, MODEL_DIR / f\"{name}.pkl\")"
   ]
  }
 ],
 "metadata": {
  "kernelspec": {
   "display_name": "drn",
   "language": "python",
   "name": "python3"
  },
  "language_info": {
   "codemirror_mode": {
    "name": "ipython",
    "version": 3
   },
   "file_extension": ".py",
   "mimetype": "text/x-python",
   "name": "python",
   "nbconvert_exporter": "python",
   "pygments_lexer": "ipython3",
   "version": "3.11.11"
  }
 },
 "nbformat": 4,
 "nbformat_minor": 2
}
