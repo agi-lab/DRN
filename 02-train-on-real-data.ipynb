{
 "cells": [
  {
   "cell_type": "code",
   "execution_count": null,
   "metadata": {},
   "outputs": [],
   "source": [
    "from dotenv import load_dotenv, find_dotenv\n",
    "\n",
    "assert load_dotenv(find_dotenv(usecwd=False)), \"No .env file found, please create one\"\n",
    "\n",
    "from concurrent.futures import ProcessPoolExecutor, as_completed\n",
    "from pathlib import Path\n",
    "\n",
    "import numpy as np\n",
    "import pandas as pd\n",
    "import torch\n",
    "from skopt.space import Categorical, Integer, Real\n",
    "import drn\n",
    "\n",
    "from hyperparameter_tune import hyperparameter_tune\n",
    "from hyperparameter_tuning_objectives import (\n",
    "    objective_cann,\n",
    "    objective_ddr,\n",
    "    objective_drn,\n",
    "    objective_mdn,\n",
    ")\n",
    "\n",
    "torch.set_num_threads(1)"
   ]
  },
  {
   "cell_type": "code",
   "execution_count": null,
   "metadata": {},
   "outputs": [],
   "source": [
    "accelerator = \"gpu\" if torch.cuda.is_available() else \"cpu\"\n",
    "print(f\"Using {accelerator} for training.\")"
   ]
  },
  {
   "cell_type": "code",
   "execution_count": null,
   "metadata": {},
   "outputs": [],
   "source": [
    "PARALLEL = (accelerator == \"cpu\")\n",
    "max_workers = 4 if PARALLEL else 1\n",
    "executor = ProcessPoolExecutor(max_workers=max_workers)\n",
    "futures = []"
   ]
  },
  {
   "cell_type": "code",
   "execution_count": null,
   "metadata": {},
   "outputs": [],
   "source": [
    "DATA_DIR = Path(\"data/processed/real\")\n",
    "x_train = pd.read_csv(DATA_DIR / \"x_train.csv\")\n",
    "x_val = pd.read_csv(DATA_DIR / \"x_val.csv\")\n",
    "y_train = pd.read_csv(DATA_DIR / \"y_train.csv\")\n",
    "y_val = pd.read_csv(DATA_DIR / \"y_val.csv\")"
   ]
  },
  {
   "cell_type": "code",
   "execution_count": null,
   "metadata": {},
   "outputs": [],
   "source": [
    "X_train = torch.Tensor(x_train.values)\n",
    "X_val = torch.Tensor(x_val.values)\n",
    "Y_train = torch.Tensor(y_train.values).flatten()\n",
    "Y_val = torch.Tensor(y_val.values).flatten()"
   ]
  },
  {
   "cell_type": "code",
   "execution_count": null,
   "metadata": {},
   "outputs": [],
   "source": [
    "MODEL_DIR = Path(\"models/real\")\n",
    "MODEL_DIR.mkdir(parents=True, exist_ok=True)"
   ]
  },
  {
   "cell_type": "code",
   "execution_count": null,
   "metadata": {},
   "outputs": [],
   "source": [
    "hp_opts = {\n",
    "    \"n_calls\": 200,\n",
    "    \"n_initial_points\": 25,\n",
    "    \"verbose\": False,\n",
    "}"
   ]
  },
  {
   "cell_type": "code",
   "execution_count": null,
   "metadata": {},
   "outputs": [],
   "source": [
    "distribution = \"gamma\""
   ]
  },
  {
   "cell_type": "code",
   "execution_count": null,
   "metadata": {},
   "outputs": [],
   "source": [
    "# Generate random seeds for the various training runs\n",
    "np.random.seed(2026)\n",
    "seeds = [int(s) for s in np.random.randint(0, 2**32 - 1, size=4)]\n",
    "seeds"
   ]
  },
  {
   "cell_type": "markdown",
   "metadata": {},
   "source": [
    "### GLM"
   ]
  },
  {
   "cell_type": "code",
   "execution_count": null,
   "metadata": {},
   "outputs": [],
   "source": [
    "glm = drn.GLM.from_statsmodels(X_train, Y_train, distribution=distribution)\n",
    "torch.save(glm, MODEL_DIR / \"glm.pkl\")"
   ]
  },
  {
   "cell_type": "markdown",
   "metadata": {},
   "source": [
    "### CANN"
   ]
  },
  {
   "cell_type": "code",
   "execution_count": null,
   "metadata": {},
   "outputs": [],
   "source": [
    "name = \"cann\"\n",
    "path = MODEL_DIR / f\"{name}_hp.pkl\"\n",
    "\n",
    "space_cann_real = [\n",
    "    Integer(1, 6, name=\"num_hidden_layers\"),\n",
    "    Categorical([32, 64, 128, 256, 512], name=\"hidden_size\"),\n",
    "    Real(0.0, 0.5, name=\"dropout_rate\"),\n",
    "    Real(0.0001, 0.01, name=\"lr\"),\n",
    "    Categorical([64, 128, 256, 512], name=\"batch_size\"),\n",
    "]\n",
    "\n",
    "futures.append(executor.submit(\n",
    "    hyperparameter_tune,\n",
    "    objective_cann,\n",
    "    space_cann_real,\n",
    "    path,\n",
    "    seed=seeds[0],\n",
    "    top_n=1,\n",
    "    gp_minimize_opts=hp_opts,\n",
    "    X_train=X_train,\n",
    "    Y_train=Y_train,\n",
    "    X_val=X_val,\n",
    "    Y_val=Y_val,\n",
    "    accelerator=accelerator,\n",
    "    glm=glm,\n",
    "    patience=10,\n",
    "))"
   ]
  },
  {
   "cell_type": "markdown",
   "metadata": {},
   "source": [
    "### MDN"
   ]
  },
  {
   "cell_type": "code",
   "execution_count": null,
   "metadata": {},
   "outputs": [],
   "source": [
    "name = \"mdn\"\n",
    "path = MODEL_DIR / f\"{name}_hp.pkl\"\n",
    "\n",
    "space_mdn_real = [\n",
    "    Integer(1, 6, name=\"num_hidden_layers\"),\n",
    "    Categorical([32, 64, 128, 256, 512], name=\"hidden_size\"),\n",
    "    Real(0.0, 0.5, name=\"dropout_rate\"),\n",
    "    Real(0.0001, 0.01, name=\"lr\"),\n",
    "    Integer(2, 10, name=\"num_components\"),\n",
    "    Categorical([64, 128, 256, 512], name=\"batch_size\"),\n",
    "]\n",
    "\n",
    "futures.append(executor.submit(\n",
    "    hyperparameter_tune,\n",
    "    objective_mdn,\n",
    "    space_mdn_real,\n",
    "    path,\n",
    "    seed=seeds[1],\n",
    "    top_n=1,\n",
    "    gp_minimize_opts=hp_opts,\n",
    "    X_train=X_train,\n",
    "    Y_train=Y_train,\n",
    "    X_val=X_val,\n",
    "    Y_val=Y_val,\n",
    "    accelerator=accelerator,\n",
    "    distribution=\"gamma\",\n",
    "    patience=10,\n",
    "))"
   ]
  },
  {
   "cell_type": "markdown",
   "metadata": {},
   "source": [
    "### DDR"
   ]
  },
  {
   "cell_type": "code",
   "execution_count": null,
   "metadata": {},
   "outputs": [],
   "source": [
    "name = \"ddr\"\n",
    "path = MODEL_DIR / f\"{name}_hp.pkl\"\n",
    "\n",
    "space_ddr_real = [\n",
    "    Integer(1, 6, name=\"num_hidden_layers\"),\n",
    "    Categorical([32, 64, 128, 256, 512], name=\"hidden_size\"),\n",
    "    Real(0.0, 0.5, name=\"dropout_rate\"),\n",
    "    Real(0.0002, 0.01, name=\"lr\"),\n",
    "    Categorical([0.05, 0.075, 0.1, 0.125, 0.15], name=\"proportion\"),\n",
    "    Categorical([64, 128, 256, 512], name=\"batch_size\"),\n",
    "]\n",
    "\n",
    "futures.append(executor.submit(\n",
    "    hyperparameter_tune,\n",
    "    objective_ddr,\n",
    "    space_ddr_real,\n",
    "    path,\n",
    "    seed=seeds[2],\n",
    "    top_n=1,\n",
    "    gp_minimize_opts=hp_opts,\n",
    "    X_train=X_train,\n",
    "    Y_train=Y_train,\n",
    "    X_val=X_val,\n",
    "    Y_val=Y_val,\n",
    "    accelerator=accelerator,\n",
    "    patience=10,\n",
    "))"
   ]
  },
  {
   "cell_type": "markdown",
   "metadata": {},
   "source": [
    "### DRN"
   ]
  },
  {
   "cell_type": "code",
   "execution_count": null,
   "metadata": {},
   "outputs": [],
   "source": [
    "name = \"drn\"\n",
    "path = MODEL_DIR / f\"{name}_hp.pkl\"\n",
    "\n",
    "drn_defaults = dict(\n",
    "    num_hidden_layers=3,\n",
    "    hidden_size=256,\n",
    "    dropout_rate=0.1,\n",
    "    batch_size=256,\n",
    ")\n",
    "\n",
    "space_drn_real = [\n",
    "    Real(1e-4, 1e-2, name=\"lr\", prior=\"log-uniform\"),\n",
    "    Real(1e-4, 5e-2, name=\"kl_alpha\", prior=\"log-uniform\"),\n",
    "    Real(1e-4, 1e-1, name=\"mean_alpha\", prior=\"log-uniform\"),\n",
    "    Real(1e-4, 1e-1, name=\"dv_alpha\", prior=\"log-uniform\"),\n",
    "    Real(0.05, 0.5, name=\"proportion\", prior=\"uniform\"),\n",
    "    Categorical([3, 5, 10], name=\"min_obs\"),\n",
    "]\n",
    "\n",
    "futures.append(executor.submit(\n",
    "    hyperparameter_tune,\n",
    "    objective_drn,\n",
    "    space_drn_real,\n",
    "    path,\n",
    "    seed=seeds[3],\n",
    "    top_n=1,\n",
    "    gp_minimize_opts=hp_opts,\n",
    "    X_train=X_train,\n",
    "    Y_train=Y_train,\n",
    "    X_val=X_val,\n",
    "    Y_val=Y_val,\n",
    "    accelerator=accelerator,\n",
    "    glm=glm,\n",
    "    criteria=\"CRPS\",\n",
    "    kl_direction=\"forwards\",\n",
    "    patience=10,\n",
    "    **drn_defaults,\n",
    "))"
   ]
  },
  {
   "cell_type": "code",
   "execution_count": null,
   "metadata": {},
   "outputs": [],
   "source": [
    "# Collect results (blocks only if jobs still running)\n",
    "results = []\n",
    "for fut in as_completed(futures):\n",
    "    res = fut.result()\n",
    "    results.append(res)\n",
    "\n",
    "executor.shutdown()"
   ]
  },
  {
   "cell_type": "code",
   "execution_count": null,
   "metadata": {},
   "outputs": [],
   "source": [
    "for name, best_models in zip([\"cann\", \"mdn\", \"ddr\", \"drn\"], results):\n",
    "    best_model = best_models[0]\n",
    "    torch.save(best_model, MODEL_DIR / f\"{name}.pkl\")"
   ]
  }
 ],
 "metadata": {
  "kernelspec": {
   "display_name": "Python 3",
   "language": "python",
   "name": "python3"
  },
  "language_info": {
   "codemirror_mode": {
    "name": "ipython",
    "version": 3
   },
   "file_extension": ".py",
   "mimetype": "text/x-python",
   "name": "python",
   "nbconvert_exporter": "python",
   "pygments_lexer": "ipython3",
   "version": "3.11.12"
  }
 },
 "nbformat": 4,
 "nbformat_minor": 2
}
