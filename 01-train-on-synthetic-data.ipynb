{
 "cells": [
  {
   "cell_type": "code",
   "execution_count": null,
   "metadata": {},
   "outputs": [],
   "source": [
    "from dotenv import load_dotenv, find_dotenv\n",
    "\n",
    "assert load_dotenv(find_dotenv(usecwd=False)), \"The .env file was not loaded.\"\n",
    "\n",
    "from concurrent.futures import ProcessPoolExecutor, as_completed\n",
    "from pathlib import Path\n",
    "\n",
    "import numpy as np\n",
    "import pandas as pd\n",
    "import torch\n",
    "from skopt.space import Categorical, Integer, Real\n",
    "import drn\n",
    "\n",
    "from generate_synthetic_dataset import generate_synthetic_gamma_lognormal\n",
    "from hyperparameter_tune import hyperparameter_tune\n",
    "from hyperparameter_tuning_objectives import (\n",
    "    objective_cann,\n",
    "    objective_ddr,\n",
    "    objective_drn,\n",
    "    objective_mdn,\n",
    ")\n",
    "\n",
    "torch.set_num_threads(1)"
   ]
  },
  {
   "cell_type": "code",
   "execution_count": null,
   "metadata": {},
   "outputs": [],
   "source": [
    "accelerator = \"gpu\" if torch.cuda.is_available() else \"cpu\"\n",
    "print(f\"Using {accelerator} for training.\")"
   ]
  },
  {
   "cell_type": "code",
   "execution_count": null,
   "metadata": {},
   "outputs": [],
   "source": [
    "PARALLEL = (accelerator == \"cpu\")\n",
    "max_workers = 4 if PARALLEL else 1\n",
    "executor = ProcessPoolExecutor(max_workers=max_workers)\n",
    "futures = []"
   ]
  },
  {
   "cell_type": "code",
   "execution_count": null,
   "metadata": {},
   "outputs": [],
   "source": [
    "MODEL_DIR = Path(\"models/synth\")\n",
    "MODEL_DIR.mkdir(parents=True, exist_ok=True)"
   ]
  },
  {
   "cell_type": "code",
   "execution_count": null,
   "metadata": {},
   "outputs": [],
   "source": [
    "hp_opts = {\n",
    "    \"n_calls\": 125,\n",
    "    \"n_initial_points\": 25,\n",
    "    \"verbose\": False,\n",
    "}"
   ]
  },
  {
   "cell_type": "code",
   "execution_count": null,
   "metadata": {},
   "outputs": [],
   "source": [
    "features, target, means, dispersion = generate_synthetic_gamma_lognormal(20000, seed=1)\n",
    "df = pd.concat([features, target], axis=1)\n",
    "df.to_csv(\"data/synth.csv\", index=False)\n",
    "df"
   ]
  },
  {
   "cell_type": "code",
   "execution_count": null,
   "metadata": {},
   "outputs": [],
   "source": [
    "(\n",
    "    x_train,\n",
    "    x_val,\n",
    "    x_test,\n",
    "    y_train,\n",
    "    y_val,\n",
    "    y_test,\n",
    "    x_train_raw,\n",
    "    x_val_raw,\n",
    "    x_test_raw,\n",
    "    num_features,\n",
    "    cat_features,\n",
    "    all_categories,\n",
    "    ct,\n",
    ") = drn.split_and_preprocess(\n",
    "    features, target, [\"X_1\", \"X_2\"], [], seed=42, num_standard=False\n",
    ")\n",
    "x_train"
   ]
  },
  {
   "cell_type": "code",
   "execution_count": null,
   "metadata": {},
   "outputs": [],
   "source": [
    "X_train = torch.Tensor(x_train.values)\n",
    "Y_train = torch.Tensor(y_train.values)\n",
    "X_val = torch.Tensor(x_val.values)\n",
    "Y_val = torch.Tensor(y_val.values)"
   ]
  },
  {
   "cell_type": "code",
   "execution_count": null,
   "metadata": {},
   "outputs": [],
   "source": [
    "distribution = \"gamma\"  # distributional assumption for the GLM, CANN, MDN"
   ]
  },
  {
   "cell_type": "code",
   "execution_count": null,
   "metadata": {},
   "outputs": [],
   "source": [
    "# Generate random seeds for the various training runs\n",
    "np.random.seed(2025)\n",
    "seeds = [int(s) for s in np.random.randint(0, 2**32 - 1, size=4)]\n",
    "seeds"
   ]
  },
  {
   "cell_type": "markdown",
   "metadata": {},
   "source": [
    "### GLM"
   ]
  },
  {
   "cell_type": "code",
   "execution_count": null,
   "metadata": {},
   "outputs": [],
   "source": [
    "glm = drn.GLM.from_statsmodels(X_train, Y_train, distribution=distribution)\n",
    "torch.save(glm, MODEL_DIR / \"glm.pkl\")"
   ]
  },
  {
   "cell_type": "markdown",
   "metadata": {},
   "source": [
    "### CANN"
   ]
  },
  {
   "cell_type": "code",
   "execution_count": null,
   "metadata": {},
   "outputs": [],
   "source": [
    "name = \"cann\"\n",
    "path = MODEL_DIR / f\"{name}_hp.pkl\"\n",
    "\n",
    "space_cann_synth = [\n",
    "    Integer(1, 4, name=\"num_hidden_layers\"),\n",
    "    Categorical([16, 32, 64, 128, 256, 512], name=\"hidden_size\"),\n",
    "    Real(0.0, 0.5, name=\"dropout_rate\"),\n",
    "    Real(0.0002, 0.01 / 2, name=\"lr\"),\n",
    "    Categorical([128, 256, 512], name=\"batch_size\"),\n",
    "]\n",
    "\n",
    "futures.append(executor.submit(\n",
    "    hyperparameter_tune,\n",
    "    objective_cann,\n",
    "    space_cann_synth,\n",
    "    path,\n",
    "    seed=seeds[0],\n",
    "    top_n=1,\n",
    "    gp_minimize_opts=hp_opts,\n",
    "    X_train=X_train,\n",
    "    Y_train=Y_train,\n",
    "    X_val=X_val,\n",
    "    Y_val=Y_val,\n",
    "    accelerator=accelerator,\n",
    "    glm=glm,\n",
    "    patience=10,\n",
    "))"
   ]
  },
  {
   "cell_type": "markdown",
   "metadata": {},
   "source": [
    "### MDN"
   ]
  },
  {
   "cell_type": "code",
   "execution_count": null,
   "metadata": {},
   "outputs": [],
   "source": [
    "name = \"mdn\"\n",
    "path = MODEL_DIR / f\"{name}_hp.pkl\"\n",
    "\n",
    "space_mdn_synth = [\n",
    "    Integer(1, 4, name=\"num_hidden_layers\"),\n",
    "    Categorical([16, 32, 64, 128, 256, 512], name=\"hidden_size\"),\n",
    "    Real(0.0, 0.5, name=\"dropout_rate\"),\n",
    "    Real(0.0002, 0.01 / 2, name=\"lr\"),\n",
    "    Integer(2, 10, name=\"num_components\"),\n",
    "    Categorical([128, 256, 512], name=\"batch_size\"),\n",
    "]\n",
    "\n",
    "futures.append(executor.submit(\n",
    "    hyperparameter_tune,\n",
    "    objective_mdn,\n",
    "    space_mdn_synth,\n",
    "    path,\n",
    "    seed=seeds[1],\n",
    "    top_n=1,\n",
    "    gp_minimize_opts=hp_opts,\n",
    "    X_train=X_train,\n",
    "    Y_train=Y_train,\n",
    "    X_val=X_val,\n",
    "    Y_val=Y_val,\n",
    "    accelerator=accelerator,\n",
    "    distribution=\"gamma\",\n",
    "    patience=10,\n",
    "))"
   ]
  },
  {
   "cell_type": "markdown",
   "metadata": {},
   "source": [
    "### DDR"
   ]
  },
  {
   "cell_type": "code",
   "execution_count": null,
   "metadata": {},
   "outputs": [],
   "source": [
    "name = \"ddr\"\n",
    "path = MODEL_DIR / f\"{name}_hp.pkl\"\n",
    "\n",
    "space_ddr_synth = [\n",
    "    Integer(1, 4, name=\"num_hidden_layers\"),\n",
    "    Categorical([16, 32, 64, 128, 256, 512], name=\"hidden_size\"),\n",
    "    Real(0.0, 0.5, name=\"dropout_rate\"),\n",
    "    Real(0.0001, 0.01 / 2, name=\"lr\"),\n",
    "    Categorical(np.linspace(0.01, 0.05, 9), name=\"proportion\"),\n",
    "    Categorical([128, 256, 512], name=\"batch_size\"),\n",
    "]\n",
    "\n",
    "futures.append(executor.submit(\n",
    "    hyperparameter_tune,\n",
    "    objective_ddr,\n",
    "    space_ddr_synth,\n",
    "    path,\n",
    "    seed=seeds[2],\n",
    "    top_n=1,\n",
    "    gp_minimize_opts=hp_opts,\n",
    "    X_train=X_train,\n",
    "    Y_train=Y_train,\n",
    "    X_val=X_val,\n",
    "    Y_val=Y_val,\n",
    "    accelerator=accelerator,\n",
    "    patience=10,\n",
    "))\n"
   ]
  },
  {
   "cell_type": "markdown",
   "metadata": {},
   "source": [
    "### DRN"
   ]
  },
  {
   "cell_type": "code",
   "execution_count": null,
   "metadata": {},
   "outputs": [],
   "source": [
    "name = \"drn\"\n",
    "path = MODEL_DIR / f\"{name}_hp.pkl\"\n",
    "\n",
    "drn_defaults = dict(\n",
    "    num_hidden_layers=3,\n",
    "    hidden_size=256,\n",
    "    dropout_rate=0.1,\n",
    "    batch_size=256,\n",
    ")\n",
    "\n",
    "space_drn_synth = [\n",
    "    Real(1e-4, 5e-3, name=\"lr\", prior=\"log-uniform\"),\n",
    "    Real(5e-4, 5e-2, name=\"kl_alpha\", prior=\"log-uniform\"),\n",
    "    Real(1e-4, 1e-1, name=\"mean_alpha\", prior=\"log-uniform\"),\n",
    "    Real(1e-2, 1e-1, name=\"dv_alpha\", prior=\"log-uniform\"),\n",
    "    Categorical([0.025, 0.05], name=\"proportion\"),\n",
    "    Categorical([5, 10], name=\"min_obs\"),\n",
    "]\n",
    "\n",
    "futures.append(executor.submit(\n",
    "    hyperparameter_tune,\n",
    "    objective_drn,\n",
    "    space_drn_synth,\n",
    "    path,\n",
    "    seed=seeds[3],\n",
    "    top_n=1,\n",
    "    gp_minimize_opts=hp_opts,\n",
    "    X_train=X_train,\n",
    "    Y_train=Y_train,\n",
    "    X_val=X_val,\n",
    "    Y_val=Y_val,\n",
    "    accelerator=accelerator,\n",
    "    glm=glm,\n",
    "    criteria=\"CRPS\",\n",
    "    kl_direction=\"forwards\",\n",
    "    patience=10,\n",
    "    **drn_defaults,\n",
    "))"
   ]
  },
  {
   "cell_type": "code",
   "execution_count": null,
   "metadata": {},
   "outputs": [],
   "source": [
    "# Collect results (blocks only if jobs still running)\n",
    "results = []\n",
    "for fut in as_completed(futures):\n",
    "    res = fut.result()\n",
    "    results.append(res)\n",
    "\n",
    "executor.shutdown()"
   ]
  },
  {
   "cell_type": "code",
   "execution_count": null,
   "metadata": {},
   "outputs": [],
   "source": [
    "for name, best_models in zip([\"cann\", \"mdn\", \"ddr\", \"drn\"], results):\n",
    "    best_model = best_models[0]\n",
    "    torch.save(best_model, MODEL_DIR / f\"{name}.pkl\")"
   ]
  }
 ],
 "metadata": {
  "kernelspec": {
   "display_name": "drn",
   "language": "python",
   "name": "python3"
  },
  "language_info": {
   "codemirror_mode": {
    "name": "ipython",
    "version": 3
   },
   "file_extension": ".py",
   "mimetype": "text/x-python",
   "name": "python",
   "nbconvert_exporter": "python",
   "pygments_lexer": "ipython3",
   "version": "3.11.11"
  }
 },
 "nbformat": 4,
 "nbformat_minor": 2
}
