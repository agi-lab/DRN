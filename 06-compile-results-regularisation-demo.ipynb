{
 "cells": [
  {
   "cell_type": "code",
   "execution_count": null,
   "metadata": {},
   "outputs": [],
   "source": [
    "%load_ext dotenv\n",
    "%dotenv\n",
    "\n",
    "from pathlib import Path\n",
    "\n",
    "import scipy\n",
    "\n",
    "import matplotlib.pyplot as plt\n",
    "import numpy as np\n",
    "import pandas as pd\n",
    "import seaborn as sns\n",
    "\n",
    "import torch\n",
    "\n",
    "torch.set_num_threads(1)\n",
    "\n",
    "from generate_synthetic_dataset import generate_synthetic_gaussian\n",
    "\n",
    "from drn import DRNExplainer, split_and_preprocess"
   ]
  },
  {
   "cell_type": "code",
   "execution_count": null,
   "metadata": {},
   "outputs": [],
   "source": [
    "plt.rcParams[\"savefig.dpi\"] = 300\n",
    "plt.rcParams['xtick.labelsize'] = 15\n",
    "plt.rcParams['ytick.labelsize'] = 15"
   ]
  },
  {
   "cell_type": "code",
   "execution_count": null,
   "metadata": {},
   "outputs": [],
   "source": [
    "MODEL_DIR = Path(\"models/reg\")\n",
    "PLOT_DIR = Path(\"plots/reg\")\n",
    "PLOT_DIR.mkdir(parents=True, exist_ok=True)"
   ]
  },
  {
   "cell_type": "code",
   "execution_count": null,
   "metadata": {},
   "outputs": [],
   "source": [
    "features, target, means, dispersion = generate_synthetic_gaussian(40000)\n",
    "x_train, x_val, x_test, y_train, y_val, y_test,\\\n",
    "      x_train_raw, x_val_raw, x_test_raw,\\\n",
    "          num_features, cat_features,\\\n",
    "             all_categories, ct =\\\n",
    "                split_and_preprocess(features, target, ['X_1', 'X_2'], [], seed = 0, num_standard = False)"
   ]
  },
  {
   "cell_type": "code",
   "execution_count": null,
   "metadata": {},
   "outputs": [],
   "source": [
    "X_train = torch.Tensor(x_train.values)\n",
    "Y_train = torch.Tensor(y_train.values)\n",
    "X_val = torch.Tensor(x_val.values)\n",
    "Y_val = torch.Tensor(y_val.values)\n",
    "X_test = torch.Tensor(x_test.values)\n",
    "Y_test = torch.Tensor(y_test.values)\n",
    "\n",
    "train_dataset = torch.utils.data.TensorDataset(X_train, Y_train)\n",
    "val_dataset = torch.utils.data.TensorDataset(X_val, Y_val)"
   ]
  },
  {
   "cell_type": "code",
   "execution_count": null,
   "metadata": {},
   "outputs": [],
   "source": [
    "glm = torch.load(MODEL_DIR / \"glm.pkl\", weights_only=False)\n",
    "drn_no_penalty = torch.load(MODEL_DIR / \"drn_no_penalty.pkl\", weights_only=False)\n",
    "drn_kl_penalty = torch.load(MODEL_DIR / \"drn_kl_penalty.pkl\", weights_only=False)\n",
    "drn_dv_large_penalty = torch.load(MODEL_DIR / \"drn_dv_large_penalty.pkl\", weights_only=False)\n",
    "drn_everything = torch.load(MODEL_DIR / \"drn_everything.pkl\", weights_only=False)"
   ]
  },
  {
   "cell_type": "code",
   "execution_count": null,
   "metadata": {},
   "outputs": [],
   "source": [
    "x_1 = 0.5\n",
    "x_2 = 0.5\n",
    "instance = pd.DataFrame(np.array([x_1, x_2]).reshape(1,2), columns = ['X_1', 'X_2'])\n",
    "\n",
    "true_mean = -x_1 + x_2\n",
    "true_scale = 0.5 * (x_1**2 + x_2**2)"
   ]
  },
  {
   "cell_type": "code",
   "execution_count": null,
   "metadata": {},
   "outputs": [],
   "source": [
    "fig, (ax1, ax2) = plt.subplots(1, 2, figsize=(7, 3.5))\n",
    "\n",
    "# Calculate the PDF with 'true_mean' and 'true_scale' parameters\n",
    "true_y_grid = np.linspace(-1.25, 1.25, 1000)\n",
    "true_densities = scipy.stats.norm.pdf(true_y_grid, loc=true_mean, scale=true_scale)\n",
    "\n",
    "# Create the Explainer class to generate plots\n",
    "drn_no_penalty_exp = DRNExplainer(drn_no_penalty, glm, drn_no_penalty.cutpoints, x_train_raw, cat_features, all_categories, ct)  \n",
    "drn_no_penalty_exp.plot_adjustment_factors(instance = instance,\\\n",
    "                                           num_interpolations=1_000, \n",
    "                                           plot_adjustments_labels = False,\\\n",
    "                                            axes = ax1,\n",
    "                                            x_range = (-1.25, 1.25),\\\n",
    "                                            y_range = (0, 2),\\\n",
    "                                            plot_title = \"\",\n",
    "                                            plot_y_label = \"$f(y|\\\\boldsymbol{X}=(0.5, 0.5)^{\\\\top})$\", \n",
    "                                            )\n",
    "\n",
    "ax1.plot(true_y_grid, true_densities, color='red', label='True', lw=2, zorder=-1)\n",
    "plt.legend()\n",
    "sns.despine()\n",
    "\n",
    "drn_kl_penalty_exp = DRNExplainer(drn_kl_penalty, glm, drn_kl_penalty.cutpoints, x_train_raw, cat_features, all_categories, ct)  \n",
    "drn_kl_penalty_exp.plot_adjustment_factors(instance = instance,\\\n",
    "                                          num_interpolations=1_000, \n",
    "                                          plot_adjustments_labels = False,\\\n",
    "                                          axes = ax2,\n",
    "                                          x_range = (-1.25, 1.25),\\\n",
    "                                          y_range = (0, 2),\\\n",
    "                                            plot_title = \"\",\n",
    "                                           plot_y_label = \"$f(y|\\\\boldsymbol{X}=(0.5, 0.5)^{\\\\top})$\", \n",
    "                                            )\n",
    "\n",
    "ax2.plot(true_y_grid, true_densities, color='red', label='True', lw=2, zorder=-1)\n",
    "plt.legend()\n",
    "sns.despine()\n",
    "\n",
    "plt.tight_layout()\n",
    "plt.savefig(PLOT_DIR / \"DRN KL Penalty.png\");"
   ]
  },
  {
   "cell_type": "code",
   "execution_count": null,
   "metadata": {},
   "outputs": [],
   "source": [
    "fig, (ax1, ax2) = plt.subplots(1, 2, figsize=(7, 3.5))\n",
    "\n",
    "# Calculate the PDF with 'true_mean' and 'true_scale' parameters\n",
    "true_y_grid = np.linspace(-1.25, 1.25, 1000)\n",
    "true_densities = scipy.stats.norm.pdf(true_y_grid, loc=true_mean, scale=true_scale)\n",
    "\n",
    "drn_explainer = DRNExplainer(drn_dv_large_penalty, glm, drn_dv_large_penalty.cutpoints, x_train_raw, cat_features, all_categories, ct)  \n",
    "drn_explainer.plot_adjustment_factors(instance = instance,\\\n",
    "                                      num_interpolations=1_000, \n",
    "                                        plot_adjustments_labels = False,\\\n",
    "                                          axes = ax1,\n",
    "                                          x_range = (-1.25, 1.25),\\\n",
    "                                          y_range = (0, 2),\\\n",
    "                                          plot_title = \"\",\n",
    "                                           plot_y_label = \"$f(y|\\\\boldsymbol{X}=(0.5, 0.5)^{\\\\top})$\", \n",
    "                                            )\n",
    "\n",
    "ax1.plot(true_y_grid, true_densities, color='red', label='True', lw=2, zorder=-1)\n",
    "plt.legend()\n",
    "sns.despine()\n",
    "\n",
    "drn_explainer = DRNExplainer(drn_everything, glm, drn_everything.cutpoints, x_train_raw, cat_features, all_categories, ct)  \n",
    "drn_explainer.plot_adjustment_factors(instance = instance,\\\n",
    "                                      num_interpolations=1_000, \n",
    "                                        plot_adjustments_labels = False,\\\n",
    "                                          axes = ax2,\n",
    "                                          x_range = (-1.25, 1.25),\\\n",
    "                                          y_range = (0, 2),\\\n",
    "                                            plot_title = \"\",\n",
    "                                           plot_y_label = \"$f(y|\\\\boldsymbol{X}=(0.5, 0.5)^{\\\\top})$\", \n",
    "                                            )\n",
    "\n",
    "ax2.plot(true_y_grid, true_densities, color='red', label='True', lw=2, zorder=-1)\n",
    "plt.legend()\n",
    "sns.despine()\n",
    "\n",
    "plt.tight_layout()\n",
    "plt.savefig(PLOT_DIR / \"DRN DV Penalty.png\");"
   ]
  }
 ],
 "metadata": {
  "kernelspec": {
   "display_name": "drn",
   "language": "python",
   "name": "python3"
  },
  "language_info": {
   "codemirror_mode": {
    "name": "ipython",
    "version": 3
   },
   "file_extension": ".py",
   "mimetype": "text/x-python",
   "name": "python",
   "nbconvert_exporter": "python",
   "pygments_lexer": "ipython3",
   "version": "3.11.8"
  }
 },
 "nbformat": 4,
 "nbformat_minor": 2
}
